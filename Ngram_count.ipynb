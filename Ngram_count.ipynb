{
 "cells": [
  {
   "cell_type": "markdown",
   "metadata": {},
   "source": [
    "# N-gram distribution\n",
    "Let's say we have two text samples of equal length (in tokens) - A and B. The question - Do bigrams (or n-grams)  present in A occur (on average) more or less frequently in B? Or as frequently?\n",
    "\n",
    "On the face of it, it may seem that they _should_ occur at the same frequency.\n",
    "\n",
    "But looking deeper, is this always the case? Similar n-grams are more likely to be found in proximity to each other. So n-grams in A should be (on average) more frequently found in A than in B.\n",
    "\n",
    "But what if we create A and B from randomly sampling n-grams from a list of n-grams? Then the spatial adjacency is not really a concern.\n",
    "\n",
    "Now is there another mathematical reason? There are almost certainly n-grams in B that do not exist in A. Thus there are some n-grams of frequency 0 in A that have a frequency > 0 in B. The total number of n-grams in B =number of ngrams in A. Therefore, on average, n-grams that are present in A must have a lower frequency  in B.\n",
    "\n",
    "Are all n-grams equal? A decent starting hypothesis is that n-grams that encode common language features (e.g. stopwords) should be equally distributed across both, while n-grams that are less frequent are not.\n",
    "\n",
    "### Dataset - Peter Norvig's Big Text File \n",
    "https://norvig.com/ngrams/\n",
    "~1.2 mil tokens"
   ]
  },
  {
   "cell_type": "code",
   "execution_count": 68,
   "metadata": {},
   "outputs": [],
   "source": [
    "import nltk\n",
    "import numpy as np\n",
    "from collections import Counter\n",
    "import matplotlib.pyplot as plt"
   ]
  },
  {
   "cell_type": "code",
   "execution_count": 18,
   "metadata": {},
   "outputs": [],
   "source": [
    "with open('big.txt', 'r') as myfile:\n",
    "    text = myfile.read()"
   ]
  },
  {
   "cell_type": "code",
   "execution_count": 19,
   "metadata": {},
   "outputs": [],
   "source": [
    "import nltk\n",
    "from nltk import word_tokenize\n",
    "from nltk.util import ngrams\n",
    "token=nltk.word_tokenize(text)\n",
    "bigrams=ngrams(token,2)"
   ]
  },
  {
   "cell_type": "code",
   "execution_count": 20,
   "metadata": {},
   "outputs": [],
   "source": [
    "bigrams = list(bigrams)"
   ]
  },
  {
   "cell_type": "code",
   "execution_count": 21,
   "metadata": {},
   "outputs": [
    {
     "data": {
      "text/plain": [
       "1288544"
      ]
     },
     "execution_count": 21,
     "metadata": {},
     "output_type": "execute_result"
    }
   ],
   "source": [
    "len(bigrams)"
   ]
  },
  {
   "cell_type": "code",
   "execution_count": 14,
   "metadata": {},
   "outputs": [],
   "source": [
    "def get_bigram_frequencies(bigram_list):\n",
    "    return Counter(bigram_list)"
   ]
  },
  {
   "cell_type": "code",
   "execution_count": 123,
   "metadata": {},
   "outputs": [],
   "source": [
    "def get_bigram_frequency_in_holdout_set(bigram_freqs_a, bigram_freqs_holdout):\n",
    "    \"\"\"\n",
    "    For all bigrams in set A, find the frequency in B/holdout set.\n",
    "    returns a list of [(bigram, freq_in_a, freq_in_b)] for all bigrams in a.\n",
    "    \"\"\"\n",
    "    new_bigram_counts = []\n",
    "    for bigram, count in bigram_freqs_a.items():\n",
    "        new_bigram_counts.append((bigram, count, bigram_freqs_holdout[bigram]))\n",
    "    return new_bigram_counts\n",
    "    "
   ]
  },
  {
   "cell_type": "code",
   "execution_count": 125,
   "metadata": {},
   "outputs": [],
   "source": [
    "def aggregate_frequency_change_by_initial_frequency(bigram_freq_changes):\n",
    "    \"\"\"\n",
    "    We want to know the frequency in the holdout set, given frequency in initial set.\n",
    "    We aggregate by frequency in initial set to study whether initial frequency has an effect on frequency change.\n",
    "    Return dict{initial_freq:new_freq}\n",
    "    \"\"\"\n",
    "    new_frequency_aggregate = {} # freq in A : (total bigrams of that frequency, total count in B)\n",
    "    for _, old_freq, new_freq in bigram_freq_changes:\n",
    "        already_counted = new_frequency_aggregate.get(old_freq, (0,0))\n",
    "        new_frequency_aggregate[old_freq] = (already_counted[0]+1, already_counted[1]+new_freq)\n",
    "    \n",
    "    for key, value in new_frequency_aggregate.items():\n",
    "        new_frequency_aggregate[key] = value[1]/value[0]\n",
    "    return new_frequency_aggregate\n",
    "    "
   ]
  },
  {
   "cell_type": "markdown",
   "metadata": {},
   "source": [
    "### Split the text sample down the middle.\n"
   ]
  },
  {
   "cell_type": "code",
   "execution_count": 126,
   "metadata": {},
   "outputs": [],
   "source": [
    "sample_a_size = int(len(bigrams)/2)\n",
    "sample_a = bigrams[:sample_a_size]\n",
    "sample_b = bigrams[sample_a_size:]"
   ]
  },
  {
   "cell_type": "code",
   "execution_count": 127,
   "metadata": {},
   "outputs": [],
   "source": [
    "sample_a_bigram_freqs = get_bigram_frequencies(sample_a)\n",
    "sample_b_bigram_freqs = get_bigram_frequencies(sample_b)"
   ]
  },
  {
   "cell_type": "code",
   "execution_count": 128,
   "metadata": {},
   "outputs": [],
   "source": [
    "frequency_changes = get_bigram_frequency_in_holdout_set(sample_a_bigram_freqs, sample_b_bigram_freqs)"
   ]
  },
  {
   "cell_type": "code",
   "execution_count": 129,
   "metadata": {},
   "outputs": [],
   "source": [
    "aggregate_frequency_changes = aggregate_frequency_change_by_initial_frequency(frequency_changes)"
   ]
  },
  {
   "cell_type": "markdown",
   "metadata": {},
   "source": [
    "Plotting functions"
   ]
  },
  {
   "cell_type": "code",
   "execution_count": 130,
   "metadata": {},
   "outputs": [],
   "source": [
    "def plot_aggregate_frequency_changes(aggregate_frequency_change_list):\n",
    "    x = np.array([i[0] for i in aggregate_frequency_change_list])\n",
    "    y = np.array([i[1] for i in aggregate_frequency_change_list])\n",
    "    colors = ['g' if x[i]>y[i] else 'r' for i in range(len(x))]\n",
    "    plt.scatter(x, y, c=colors, s=5, linewidth=0)\n",
    "    plt.gca().set_aspect('equal', adjustable='box')\n",
    "    plt.show()\n",
    "    \n"
   ]
  },
  {
   "cell_type": "code",
   "execution_count": 131,
   "metadata": {},
   "outputs": [],
   "source": [
    "def plot_all_freq_changes(aggregate_frequency_changes):\n",
    "    print(\"Four separate plots to properly display different scale ranges\")\n",
    "    print(\"Green - more frequent in A. Red - more frequent in B\")\n",
    "    d_keys = sorted(aggregate_frequency_changes.keys())\n",
    "    \n",
    "    to_plot = []\n",
    "    for i in d_keys[:100]:\n",
    "        to_plot.append((i,aggregate_frequency_changes[i]))\n",
    "    plot_aggregate_frequency_changes(to_plot)\n",
    "    \n",
    "    to_plot = []\n",
    "    for i in d_keys[100:-50]:\n",
    "        to_plot.append((i,aggregate_frequency_changes[i]))\n",
    "    plot_aggregate_frequency_changes(to_plot)\n",
    "    \n",
    "    to_plot = []\n",
    "    for i in d_keys[-50:-10]:\n",
    "        to_plot.append((i,aggregate_frequency_changes[i]))\n",
    "    plot_aggregate_frequency_changes(to_plot)\n",
    "    \n",
    "    to_plot = []\n",
    "    for i in d_keys[-10:]:\n",
    "        to_plot.append((i,aggregate_frequency_changes[i]))\n",
    "    plot_aggregate_frequency_changes(to_plot)\n"
   ]
  },
  {
   "cell_type": "code",
   "execution_count": 132,
   "metadata": {},
   "outputs": [
    {
     "name": "stdout",
     "output_type": "stream",
     "text": [
      "Four separate plots to properly display different scale ranges\n",
      "Green - more frequent in A. Red - more frequent in B\n"
     ]
    },
    {
     "data": {
      "image/png": "[encoded data removed]",
      "text/plain": [
       "<Figure size 432x288 with 1 Axes>"
      ]
     },
     "metadata": {
      "needs_background": "light"
     },
     "output_type": "display_data"
    },
    {
     "data": {
      "image/png": "[encoded data removed]",
      "text/plain": [
       "<Figure size 432x288 with 1 Axes>"
      ]
     },
     "metadata": {
      "needs_background": "light"
     },
     "output_type": "display_data"
    },
    {
     "data": {
      "image/png": "[encoded data removed]",
      "text/plain": [
       "<Figure size 432x288 with 1 Axes>"
      ]
     },
     "metadata": {
      "needs_background": "light"
     },
     "output_type": "display_data"
    },
    {
     "data": {
      "image/png": "[encoded data removed]",
      "text/plain": [
       "<Figure size 432x288 with 1 Axes>"
      ]
     },
     "metadata": {
      "needs_background": "light"
     },
     "output_type": "display_data"
    }
   ],
   "source": [
    "plot_all_freq_changes(aggregate_frequency_changes)"
   ]
  },
  {
   "cell_type": "markdown",
   "metadata": {},
   "source": [
    "All our hypotheses seem to be confirmed in this test.\n",
    "\n",
    "Among the least frequent bigrams, they are much more common in A than B. As we go toward more frequent ones, this trend changes, and the results are more mixed, though still skewed in the favour of A>B"
   ]
  },
  {
   "cell_type": "markdown",
   "metadata": {},
   "source": [
    "### Splitting bigrams arbitrarily"
   ]
  },
  {
   "cell_type": "code",
   "execution_count": 117,
   "metadata": {},
   "outputs": [],
   "source": [
    "from random import shuffle\n",
    "shuffled_bigrams = bigrams.copy()\n",
    "shuffle(shuffled_bigrams)"
   ]
  },
  {
   "cell_type": "code",
   "execution_count": 119,
   "metadata": {},
   "outputs": [],
   "source": [
    "sample_a_size = int(len(shuffled_bigrams)/2)\n",
    "sample_a = shuffled_bigrams[:sample_a_size]\n",
    "sample_b = shuffled_bigrams[sample_a_size:]"
   ]
  },
  {
   "cell_type": "code",
   "execution_count": 120,
   "metadata": {},
   "outputs": [],
   "source": [
    "sample_a_bigram_freqs = get_bigram_frequencies(sample_a)\n",
    "sample_b_bigram_freqs = get_bigram_frequencies(sample_b)\n",
    "\n",
    "frequency_changes = get_bigram_frequency_in_holdout_set(sample_a_bigram_freqs, sample_b_bigram_freqs)\n",
    "aggregate_frequency_changes = aggregate_frequency_change_initial_frequency(frequency_changes)"
   ]
  },
  {
   "cell_type": "code",
   "execution_count": 121,
   "metadata": {},
   "outputs": [
    {
     "name": "stdout",
     "output_type": "stream",
     "text": [
      "Four separate plots to properly display different scale ranges\n",
      "Green - more frequent in A. Red - more frequent in B\n"
     ]
    },
    {
     "data": {
      "image/png": "[encoded data removed]",
      "text/plain": [
       "<Figure size 432x288 with 1 Axes>"
      ]
     },
     "metadata": {
      "needs_background": "light"
     },
     "output_type": "display_data"
    },
    {
     "data": {
      "image/png": "[encoded data removed]",
      "text/plain": [
       "<Figure size 432x288 with 1 Axes>"
      ]
     },
     "metadata": {
      "needs_background": "light"
     },
     "output_type": "display_data"
    },
    {
     "data": {
      "image/png": "[encoded data removed]",
      "text/plain": [
       "<Figure size 432x288 with 1 Axes>"
      ]
     },
     "metadata": {
      "needs_background": "light"
     },
     "output_type": "display_data"
    },
    {
     "data": {
      "image/png": "[encoded data removed]",
      "text/plain": [
       "<Figure size 432x288 with 1 Axes>"
      ]
     },
     "metadata": {
      "needs_background": "light"
     },
     "output_type": "display_data"
    }
   ],
   "source": [
    "plot_all_freq_changes(aggregate_frequency_changes)"
   ]
  },
  {
   "cell_type": "markdown",
   "metadata": {},
   "source": [
    "Again, for less frequently occuring bigrams, we see the same trend. The trend almost vanishes for more frequently occuring ones."
   ]
  },
  {
   "cell_type": "code",
   "execution_count": null,
   "metadata": {},
   "outputs": [],
   "source": []
  }
 ],
 "metadata": {
  "kernelspec": {
   "display_name": "Python 3",
   "language": "python",
   "name": "python3"
  },
  "language_info": {
   "codemirror_mode": {
    "name": "ipython",
    "version": 3
   },
   "file_extension": ".py",
   "mimetype": "text/x-python",
   "name": "python",
   "nbconvert_exporter": "python",
   "pygments_lexer": "ipython3",
   "version": "3.7.2"
  }
 },
 "nbformat": 4,
 "nbformat_minor": 4
}
